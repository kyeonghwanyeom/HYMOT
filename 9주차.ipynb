{
  "nbformat": 4,
  "nbformat_minor": 0,
  "metadata": {
    "colab": {
      "provenance": [],
      "authorship_tag": "ABX9TyMexXhNdJPotsUgEw7nc+A8",
      "include_colab_link": true
    },
    "kernelspec": {
      "name": "python3",
      "display_name": "Python 3"
    },
    "language_info": {
      "name": "python"
    }
  },
  "cells": [
    {
      "cell_type": "markdown",
      "metadata": {
        "id": "view-in-github",
        "colab_type": "text"
      },
      "source": [
        "<a href=\"https://colab.research.google.com/github/kyeonghwanyeom/HYMOT/blob/main/9%EC%A3%BC%EC%B0%A8.ipynb\" target=\"_parent\"><img src=\"https://colab.research.google.com/assets/colab-badge.svg\" alt=\"Open In Colab\"/></a>"
      ]
    },
    {
      "cell_type": "code",
      "execution_count": null,
      "metadata": {
        "id": "qYKFTcA9fdwA"
      },
      "outputs": [],
      "source": [
        "number_list = []\n",
        "number_list.append(1)\n",
        "number_list.append(2)\n",
        "number_list.append(3)\n",
        "number_list.append(4)\n",
        "number_list.append(5)"
      ]
    },
    {
      "cell_type": "code",
      "source": [
        "number_list = []\n",
        "for number in range(1, 6):\n",
        "    number_list.append(number)"
      ],
      "metadata": {
        "id": "t_AYQXMUfhja"
      },
      "execution_count": null,
      "outputs": []
    },
    {
      "cell_type": "code",
      "source": [
        "number_list"
      ],
      "metadata": {
        "colab": {
          "base_uri": "https://localhost:8080/"
        },
        "id": "3m2Hm789fy8F",
        "outputId": "81eeb600-986e-4415-9e7c-d2fab8e19e9a"
      },
      "execution_count": null,
      "outputs": [
        {
          "output_type": "execute_result",
          "data": {
            "text/plain": [
              "[1, 2, 3, 4, 5]"
            ]
          },
          "metadata": {},
          "execution_count": 7
        }
      ]
    },
    {
      "cell_type": "code",
      "source": [
        "number_list = [number-1 for number in range(1,6)]\n",
        "number_list"
      ],
      "metadata": {
        "colab": {
          "base_uri": "https://localhost:8080/"
        },
        "id": "ZGlcDiRDgJuW",
        "outputId": "6e2e4164-2af6-47b8-8c38-f4c3b48952ac"
      },
      "execution_count": null,
      "outputs": [
        {
          "output_type": "execute_result",
          "data": {
            "text/plain": [
              "[0, 1, 2, 3, 4]"
            ]
          },
          "metadata": {},
          "execution_count": 11
        }
      ]
    },
    {
      "cell_type": "code",
      "source": [
        "a_list = [number for number in range(1,6) if number % 2 == 1]\n",
        "a_list"
      ],
      "metadata": {
        "colab": {
          "base_uri": "https://localhost:8080/"
        },
        "id": "BbsZ3t14gOFJ",
        "outputId": "e266aa28-148b-42b1-ce57-10385e24340c"
      },
      "execution_count": null,
      "outputs": [
        {
          "output_type": "execute_result",
          "data": {
            "text/plain": [
              "[1, 3, 5]"
            ]
          },
          "metadata": {},
          "execution_count": 12
        }
      ]
    },
    {
      "cell_type": "code",
      "source": [
        "a_list = []\n",
        "for number in range(1,6):\n",
        "  if number%2 == 1:\n",
        "    a_list.append(number)\n",
        "a_list"
      ],
      "metadata": {
        "colab": {
          "base_uri": "https://localhost:8080/"
        },
        "id": "bH09rLnKgcHq",
        "outputId": "2e218485-15ce-4632-ed6b-18d071fe1fa7"
      },
      "execution_count": null,
      "outputs": [
        {
          "output_type": "execute_result",
          "data": {
            "text/plain": [
              "[1, 3, 5]"
            ]
          },
          "metadata": {},
          "execution_count": 16
        }
      ]
    },
    {
      "cell_type": "code",
      "source": [
        "sentence = ['I', 'Love', 'Python', 'Soooooo', 'MUCH!!!']"
      ],
      "metadata": {
        "id": "7SHDf_qciHFJ"
      },
      "execution_count": null,
      "outputs": []
    },
    {
      "cell_type": "code",
      "source": [
        "[word.lower() for word in sentence]"
      ],
      "metadata": {
        "colab": {
          "base_uri": "https://localhost:8080/"
        },
        "id": "WqDNdiNlidjN",
        "outputId": "00eec3dd-b2d6-4a2e-ef95-d0859c206945"
      },
      "execution_count": null,
      "outputs": [
        {
          "output_type": "execute_result",
          "data": {
            "text/plain": [
              "['i', 'love', 'python', 'soooooo', 'much!!!']"
            ]
          },
          "metadata": {},
          "execution_count": 24
        }
      ]
    },
    {
      "cell_type": "code",
      "source": [
        "[word for word in sentence if len(word) > 6]"
      ],
      "metadata": {
        "colab": {
          "base_uri": "https://localhost:8080/"
        },
        "id": "KOEUGbX-ilQr",
        "outputId": "c4cf7160-9677-448e-f2f6-cb0c44468b4c"
      },
      "execution_count": null,
      "outputs": [
        {
          "output_type": "execute_result",
          "data": {
            "text/plain": [
              "['Soooooo', 'MUCH!!!']"
            ]
          },
          "metadata": {},
          "execution_count": 26
        }
      ]
    },
    {
      "cell_type": "code",
      "source": [
        "[(x, x ** 2, x ** 3) for x in range(10)]"
      ],
      "metadata": {
        "colab": {
          "base_uri": "https://localhost:8080/"
        },
        "id": "HoHIs5JyiqHx",
        "outputId": "66f24b85-e071-49ff-e565-7ff1a1bf4df7"
      },
      "execution_count": null,
      "outputs": [
        {
          "output_type": "execute_result",
          "data": {
            "text/plain": [
              "[(0, 0, 0),\n",
              " (1, 1, 1),\n",
              " (2, 4, 8),\n",
              " (3, 9, 27),\n",
              " (4, 16, 64),\n",
              " (5, 25, 125),\n",
              " (6, 36, 216),\n",
              " (7, 49, 343),\n",
              " (8, 64, 512),\n",
              " (9, 81, 729)]"
            ]
          },
          "metadata": {},
          "execution_count": 27
        }
      ]
    },
    {
      "cell_type": "code",
      "source": [
        "rows = range(1,4)\n",
        "cols = range(1,3)\n",
        "for row in rows:\n",
        "  for col in cols:\n",
        "    print(row, col)"
      ],
      "metadata": {
        "colab": {
          "base_uri": "https://localhost:8080/"
        },
        "id": "mLj0pvieix5h",
        "outputId": "fb05610e-a404-4aff-8a47-b70c87f777f4"
      },
      "execution_count": null,
      "outputs": [
        {
          "output_type": "stream",
          "name": "stdout",
          "text": [
            "1 1\n",
            "1 2\n",
            "2 1\n",
            "2 2\n",
            "3 1\n",
            "3 2\n"
          ]
        }
      ]
    },
    {
      "cell_type": "code",
      "source": [
        "rows = range(1,4)\n",
        "cols = range(1,3)\n",
        "cells = [(row, col) for row in rows for col in cols]\n",
        "for cell in cells:\n",
        "  print(cell)"
      ],
      "metadata": {
        "colab": {
          "base_uri": "https://localhost:8080/"
        },
        "id": "hmQ_UjACja0V",
        "outputId": "b754cb6b-8cc9-4e59-d61b-9212bd24cf5a"
      },
      "execution_count": null,
      "outputs": [
        {
          "output_type": "stream",
          "name": "stdout",
          "text": [
            "(1, 1)\n",
            "(1, 2)\n",
            "(2, 1)\n",
            "(2, 2)\n",
            "(3, 1)\n",
            "(3, 2)\n"
          ]
        }
      ]
    },
    {
      "cell_type": "code",
      "source": [
        "[(i,j) for i in range(5) for j in range(i)]"
      ],
      "metadata": {
        "colab": {
          "base_uri": "https://localhost:8080/"
        },
        "id": "8yn9nk_Yqy9D",
        "outputId": "527d808b-4762-415d-a440-935fc6cef6bf"
      },
      "execution_count": null,
      "outputs": [
        {
          "output_type": "execute_result",
          "data": {
            "text/plain": [
              "[(1, 0),\n",
              " (2, 0),\n",
              " (2, 1),\n",
              " (3, 0),\n",
              " (3, 1),\n",
              " (3, 2),\n",
              " (4, 0),\n",
              " (4, 1),\n",
              " (4, 2),\n",
              " (4, 3)]"
            ]
          },
          "metadata": {},
          "execution_count": 35
        }
      ]
    },
    {
      "cell_type": "code",
      "source": [
        "word = 'letters'\n",
        "letter_counts= {letter: word.count(letter) for letter in word}\n",
        "letter_counts"
      ],
      "metadata": {
        "colab": {
          "base_uri": "https://localhost:8080/"
        },
        "id": "ERJLiaRHeFu7",
        "outputId": "795754c0-79c5-4043-9872-26af2f172bdd"
      },
      "execution_count": null,
      "outputs": [
        {
          "output_type": "execute_result",
          "data": {
            "text/plain": [
              "{'l': 1, 'e': 2, 't': 2, 'r': 1, 's': 1}"
            ]
          },
          "metadata": {},
          "execution_count": 2
        }
      ]
    },
    {
      "cell_type": "code",
      "source": [
        "word = 'letters'\n",
        "letter_counts= {letter: word.count(letter) for letter in set(word)}\n",
        "letter_counts"
      ],
      "metadata": {
        "colab": {
          "base_uri": "https://localhost:8080/"
        },
        "id": "cRpGJ-5HeUGU",
        "outputId": "f6db10d3-ca9e-48cf-b69e-1465a9c47bb7"
      },
      "execution_count": null,
      "outputs": [
        {
          "output_type": "execute_result",
          "data": {
            "text/plain": [
              "{'l': 1, 'r': 1, 's': 1, 'e': 2, 't': 2}"
            ]
          },
          "metadata": {},
          "execution_count": 3
        }
      ]
    },
    {
      "cell_type": "code",
      "source": [
        "a_set = {number for number in range(1,6) if number % 3 == 1}\n",
        "a_set"
      ],
      "metadata": {
        "colab": {
          "base_uri": "https://localhost:8080/"
        },
        "id": "RxLPP5rCefzA",
        "outputId": "3a9863a3-850d-4f09-ed5c-a8c68e80196c"
      },
      "execution_count": null,
      "outputs": [
        {
          "output_type": "execute_result",
          "data": {
            "text/plain": [
              "{1, 4}"
            ]
          },
          "metadata": {},
          "execution_count": 4
        }
      ]
    },
    {
      "cell_type": "code",
      "source": [
        "days = ['Monday', 'Tuesday', 'Wednesday']\n",
        "fruits = ['banana', 'orange', 'peach']\n",
        "drinks = ['coffee', 'tea', 'beer']\n",
        "desserts = ['tiramisu', 'ice cream', 'pie', 'pudding']\n",
        "for day, fruit, drink, dessert in zip(days, fruits, drinks, desserts):\n",
        "  print(day, \": drink\", drink, \"- eat\", fruit, \"- enjoy\", dessert)"
      ],
      "metadata": {
        "colab": {
          "base_uri": "https://localhost:8080/"
        },
        "id": "P18hJYu6erEN",
        "outputId": "65968a72-1179-4d26-f887-07c9a081520e"
      },
      "execution_count": null,
      "outputs": [
        {
          "output_type": "stream",
          "name": "stdout",
          "text": [
            "Monday : drink coffee - eat banana - enjoy tiramisu\n",
            "Tuesday : drink tea - eat orange - enjoy ice cream\n",
            "Wednesday : drink beer - eat peach - enjoy pie\n"
          ]
        }
      ]
    },
    {
      "cell_type": "code",
      "source": [
        "english= 'Monday', 'Tuesday', 'Wednesday'\n",
        "french= 'Lundi', 'Mardi', 'Mercredi'\n",
        "list( zip(english, french) )"
      ],
      "metadata": {
        "colab": {
          "base_uri": "https://localhost:8080/"
        },
        "id": "3I3ZYk-Pe2m9",
        "outputId": "a3565c8e-1c05-4a0a-f0c7-788db6d8b096"
      },
      "execution_count": null,
      "outputs": [
        {
          "output_type": "execute_result",
          "data": {
            "text/plain": [
              "[('Monday', 'Lundi'), ('Tuesday', 'Mardi'), ('Wednesday', 'Mercredi')]"
            ]
          },
          "metadata": {},
          "execution_count": 8
        }
      ]
    },
    {
      "cell_type": "code",
      "source": [
        "dict( zip(english, french) )"
      ],
      "metadata": {
        "colab": {
          "base_uri": "https://localhost:8080/"
        },
        "id": "JJAMhGjee94G",
        "outputId": "cd1c6b2a-7a56-488a-be4e-23ab6a9ef68e"
      },
      "execution_count": null,
      "outputs": [
        {
          "output_type": "execute_result",
          "data": {
            "text/plain": [
              "{'Monday': 'Lundi', 'Tuesday': 'Mardi', 'Wednesday': 'Mercredi'}"
            ]
          },
          "metadata": {},
          "execution_count": 12
        }
      ]
    },
    {
      "cell_type": "code",
      "source": [
        "def menu(wine, entree, dessert):\n",
        "  return {'wine': wine, 'entree': entree, 'dessert': dessert}"
      ],
      "metadata": {
        "id": "vaKyDDhwfq0b"
      },
      "execution_count": null,
      "outputs": []
    },
    {
      "cell_type": "code",
      "source": [
        "menu('chardonnay', 'chicken', 'cake')"
      ],
      "metadata": {
        "colab": {
          "base_uri": "https://localhost:8080/"
        },
        "id": "5xz1wfe3fw6a",
        "outputId": "806d60ea-ff35-4475-c35c-ddab0f70d691"
      },
      "execution_count": null,
      "outputs": [
        {
          "output_type": "execute_result",
          "data": {
            "text/plain": [
              "{'wine': 'chardonnay', 'entree': 'chicken', 'dessert': 'cake'}"
            ]
          },
          "metadata": {},
          "execution_count": 14
        }
      ]
    },
    {
      "cell_type": "code",
      "source": [
        "def menu(wine, entree, dessert):\n",
        "  return {'wine': wine, 'entree': entree, 'dessert': dessert}"
      ],
      "metadata": {
        "id": "BHtMUnfTgBz7"
      },
      "execution_count": null,
      "outputs": []
    },
    {
      "cell_type": "code",
      "source": [
        "menu(entree='beef', dessert='bagel', wine='bordeaux')"
      ],
      "metadata": {
        "colab": {
          "base_uri": "https://localhost:8080/"
        },
        "id": "a7DXyq1XgFuf",
        "outputId": "b69406d3-6cd4-423d-8953-6fbd27e572bd"
      },
      "execution_count": null,
      "outputs": [
        {
          "output_type": "execute_result",
          "data": {
            "text/plain": [
              "{'wine': 'bordeaux', 'entree': 'beef', 'dessert': 'bagel'}"
            ]
          },
          "metadata": {},
          "execution_count": 21
        }
      ]
    },
    {
      "cell_type": "code",
      "source": [
        "menu('frontenac', dessert='flan', entree='fish')"
      ],
      "metadata": {
        "colab": {
          "base_uri": "https://localhost:8080/"
        },
        "id": "NFRofAq1gcYu",
        "outputId": "7194a937-1004-49c8-dbc0-fbfa3ea80b2e"
      },
      "execution_count": null,
      "outputs": [
        {
          "output_type": "execute_result",
          "data": {
            "text/plain": [
              "{'wine': 'frontenac', 'entree': 'fish', 'dessert': 'flan'}"
            ]
          },
          "metadata": {},
          "execution_count": 22
        }
      ]
    },
    {
      "cell_type": "code",
      "source": [
        "def menu(wine, entree, dessert='pudding'):\n",
        "  return {'wine': wine, 'entree': entree, 'dessert': dessert}"
      ],
      "metadata": {
        "id": "GwIh4Q4JghV9"
      },
      "execution_count": null,
      "outputs": []
    },
    {
      "cell_type": "code",
      "source": [
        "menu('chardonnay', 'chicken')"
      ],
      "metadata": {
        "colab": {
          "base_uri": "https://localhost:8080/"
        },
        "id": "YpfQ2fOKgva8",
        "outputId": "251dccd7-1fbd-4f0d-ad45-a874f0a0a4e7"
      },
      "execution_count": null,
      "outputs": [
        {
          "output_type": "execute_result",
          "data": {
            "text/plain": [
              "{'wine': 'chardonnay', 'entree': 'chicken', 'dessert': 'pudding'}"
            ]
          },
          "metadata": {},
          "execution_count": 29
        }
      ]
    },
    {
      "cell_type": "code",
      "source": [
        "menu('dunkelfelder', 'duck', 'doughnut')"
      ],
      "metadata": {
        "colab": {
          "base_uri": "https://localhost:8080/"
        },
        "id": "fRdBKstvgxEu",
        "outputId": "3077dded-87c2-4a75-ef0b-debf4181c54e"
      },
      "execution_count": null,
      "outputs": [
        {
          "output_type": "execute_result",
          "data": {
            "text/plain": [
              "{'wine': 'dunkelfelder', 'entree': 'duck', 'dessert': 'doughnut'}"
            ]
          },
          "metadata": {},
          "execution_count": 30
        }
      ]
    },
    {
      "cell_type": "code",
      "source": [
        "def menu(price, wine='chardonnay', entree='chicken', dessert='pudding'):\n",
        "  return {'price': price, 'wine': wine, 'entree': entree, 'dessert': dessert}"
      ],
      "metadata": {
        "id": "JJ6esXQPg0Vn"
      },
      "execution_count": null,
      "outputs": []
    },
    {
      "cell_type": "code",
      "source": [
        "menu(price=100)"
      ],
      "metadata": {
        "colab": {
          "base_uri": "https://localhost:8080/"
        },
        "id": "sw71wcW_hGRW",
        "outputId": "d3569a52-e441-404e-fbbd-e12de1871f5f"
      },
      "execution_count": null,
      "outputs": [
        {
          "output_type": "execute_result",
          "data": {
            "text/plain": [
              "{'price': 100, 'wine': 'chardonnay', 'entree': 'chicken', 'dessert': 'pudding'}"
            ]
          },
          "metadata": {},
          "execution_count": 37
        }
      ]
    },
    {
      "cell_type": "code",
      "source": [
        "def menu(price, wine='chardonnay', entree='chicken’, dessert=‘pudding'):\n",
        "  return {'price': price, 'wine': wine, 'entree': entree, 'dessert': dessert}"
      ],
      "metadata": {
        "id": "QqEo935WhI44"
      },
      "execution_count": null,
      "outputs": []
    },
    {
      "cell_type": "code",
      "source": [
        "menu(price=100, 'saint-pierre')"
      ],
      "metadata": {
        "colab": {
          "base_uri": "https://localhost:8080/",
          "height": 110
        },
        "id": "4fcmUnuYhM1a",
        "outputId": "0f2a2034-d42b-4a75-9771-e50d4cf93082"
      },
      "execution_count": null,
      "outputs": [
        {
          "output_type": "error",
          "ename": "SyntaxError",
          "evalue": "positional argument follows keyword argument (<ipython-input-41-2276001416>, line 1)",
          "traceback": [
            "\u001b[0;36m  File \u001b[0;32m\"<ipython-input-41-2276001416>\"\u001b[0;36m, line \u001b[0;32m1\u001b[0m\n\u001b[0;31m    menu(price=100, 'saint-pierre')\u001b[0m\n\u001b[0m                                  ^\u001b[0m\n\u001b[0;31mSyntaxError\u001b[0m\u001b[0;31m:\u001b[0m positional argument follows keyword argument\n"
          ]
        }
      ]
    },
    {
      "cell_type": "code",
      "source": [
        "def echo(anything):\n",
        "  'echo returns its input argument'\n",
        "  return anything"
      ],
      "metadata": {
        "id": "gsFe8y1chR2a"
      },
      "execution_count": null,
      "outputs": []
    },
    {
      "cell_type": "code",
      "source": [
        "def print_if_true(thing, check):\n",
        "  \"\"\" Prints the first argument if a second argument is true. The operation is:\"\"\"\n",
        "  if check:\n",
        "    print(thing)"
      ],
      "metadata": {
        "id": "bNyw_dr7haQt"
      },
      "execution_count": null,
      "outputs": []
    },
    {
      "cell_type": "code",
      "source": [],
      "metadata": {
        "id": "8n86RbKVheEk"
      },
      "execution_count": null,
      "outputs": []
    }
  ]
}